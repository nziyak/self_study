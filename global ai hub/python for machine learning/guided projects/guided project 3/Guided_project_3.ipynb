{
  "cells": [
    {
      "cell_type": "markdown",
      "id": "15177c1c",
      "metadata": {
        "id": "15177c1c"
      },
      "source": [
        "#Chapter 3: Data cleaning exercise\n",
        "\n",
        "### Sales department performance analysis\n",
        "\n",
        "The HR department wants to analyze the performance of the employees in the sales department.\n",
        "\n",
        "### Data Reading\n",
        "Rachel wrote a text file employee_revenue.txt including all necessary information, but she needs help to extract the necessary information.\n",
        "\n",
        "Start by uploading the employee_revenue file to the working directory.\n",
        "\n",
        "📌 Use the .read() method to open the text file in read mode and assign it to the variable \"data\".\n"
      ]
    },
    {
      "cell_type": "code",
      "execution_count": 53,
      "id": "da79a8da",
      "metadata": {
        "colab": {
          "base_uri": "https://localhost:8080/",
          "height": 17
        },
        "id": "da79a8da",
        "outputId": "de60b8cb-3977-4a43-df3a-4529cc28dfae"
      },
      "outputs": [],
      "source": [
        "#Open the file in read mode\n",
        "file = open(\"/home/ziya/python/global ai hub/python for machine learning/guided projects/guided project 3/employee_revenue.txt\", \"r\")\n",
        "data = file.read()"
      ]
    },
    {
      "cell_type": "code",
      "execution_count": 54,
      "id": "75a5de52",
      "metadata": {
        "id": "75a5de52"
      },
      "outputs": [
        {
          "name": "stdout",
          "output_type": "stream",
          "text": [
            "Ben made 300 calls and generated 2400 dollars last Month with an 8$ average deal size.  \n",
            "omer called 10 times and Sold 2 courses generated 60 dollars last month with a 6$ average deal size.\n",
            "   KAren called 500 people and achieved success by GETting 24$ average deal size, got 12000 dollars revenue.     \n",
            "Celine with 70 calls, made 2275 dollars and 32$ average deal size IN the previous month.  \n",
            "     Sue called 100 people and earned 500 Dollars in REvenue and an AVERAGE DEAL SIZE of 5$ Last month.\n",
            "Bora called 100 people generated 770 dollars last month, his average deal size was 25$.  \n",
            "Rose made 600 phone calls and GENERATING 4000 dollars a past month 25$ average deal SIZE. \n",
            "Ellen made 800 calls and generated 6000 dollars a prior mONTH and reached 40$ the average deal size. \n",
            " bob made 200 phone calls, helped to make a proGress and generated 800 dollars LAST MONTH and gaining 15$ average deal size.\n",
            "Taylor, with 450 calls generated 1200 dollars in revenue pASt month, and the average deal size was 10$. \n",
            "  JuDE made 80 calls and earned 500 dollars for the company last month, her average deal size was 12$.\n"
          ]
        }
      ],
      "source": [
        "#Print the data\n",
        "print(data)"
      ]
    },
    {
      "cell_type": "markdown",
      "id": "33d4f7ef",
      "metadata": {
        "id": "33d4f7ef"
      },
      "source": [
        "### Data Cleaning\n",
        "\n",
        "You can see that the data needs to be cleaned and information has to be extracted from these lines. \n",
        "\n",
        "To be able to clean the data, you need to separate the text into lines.\n",
        "\n",
        "📌 Use the .splitlines() method."
      ]
    },
    {
      "cell_type": "code",
      "execution_count": 55,
      "id": "9a1a651d",
      "metadata": {
        "id": "9a1a651d"
      },
      "outputs": [
        {
          "name": "stdout",
          "output_type": "stream",
          "text": [
            "['Ben made 300 calls and generated 2400 dollars last Month with an 8$ average deal size.  ', 'omer called 10 times and Sold 2 courses generated 60 dollars last month with a 6$ average deal size.', '   KAren called 500 people and achieved success by GETting 24$ average deal size, got 12000 dollars revenue.     ', 'Celine with 70 calls, made 2275 dollars and 32$ average deal size IN the previous month.  ', '     Sue called 100 people and earned 500 Dollars in REvenue and an AVERAGE DEAL SIZE of 5$ Last month.', 'Bora called 100 people generated 770 dollars last month, his average deal size was 25$.  ', 'Rose made 600 phone calls and GENERATING 4000 dollars a past month 25$ average deal SIZE. ', 'Ellen made 800 calls and generated 6000 dollars a prior mONTH and reached 40$ the average deal size. ', ' bob made 200 phone calls, helped to make a proGress and generated 800 dollars LAST MONTH and gaining 15$ average deal size.', 'Taylor, with 450 calls generated 1200 dollars in revenue pASt month, and the average deal size was 10$. ', '  JuDE made 80 calls and earned 500 dollars for the company last month, her average deal size was 12$.']\n"
          ]
        }
      ],
      "source": [
        "#Seperate the data into lines\n",
        "lines = data.splitlines()\n",
        "print(lines)"
      ]
    },
    {
      "cell_type": "markdown",
      "id": "CKkeig2poz7w",
      "metadata": {
        "id": "CKkeig2poz7w"
      },
      "source": [
        "### Clean the data line by line\n",
        "\n",
        "Start to clean the data for the first line.\n",
        "\n",
        "📌 Use the .strip() method to remove the whitespaces from the edges of the string."
      ]
    },
    {
      "cell_type": "code",
      "execution_count": 56,
      "id": "2332622c",
      "metadata": {
        "id": "2332622c"
      },
      "outputs": [
        {
          "name": "stdout",
          "output_type": "stream",
          "text": [
            "Ben made 300 calls and generated 2400 dollars last Month with an 8$ average deal size.  \n"
          ]
        }
      ],
      "source": [
        "#Take the first line\n",
        "string = lines[0]\n",
        "print(string)"
      ]
    },
    {
      "cell_type": "code",
      "execution_count": 57,
      "id": "26219c0d",
      "metadata": {
        "id": "26219c0d"
      },
      "outputs": [
        {
          "name": "stdout",
          "output_type": "stream",
          "text": [
            "Ben made 300 calls and generated 2400 dollars last Month with an 8$ average deal size.\n"
          ]
        }
      ],
      "source": [
        "#Remove the whitespaces from the edges\n",
        "string = string.strip(\" \")\n",
        "print(string)"
      ]
    },
    {
      "cell_type": "markdown",
      "id": "ed90bfc6",
      "metadata": {
        "id": "ed90bfc6"
      },
      "source": [
        "Next, you need to fix the capitalization issues.\n",
        "\n",
        "📌 Use the .lower() method to convert the text to lowercase.\n",
        "\n",
        "📌 Then use the .capitalize() method to capitalize the first letter."
      ]
    },
    {
      "cell_type": "code",
      "execution_count": 58,
      "id": "ef8bca74",
      "metadata": {
        "id": "ef8bca74"
      },
      "outputs": [
        {
          "name": "stdout",
          "output_type": "stream",
          "text": [
            "ben made 300 calls and generated 2400 dollars last month with an 8$ average deal size.\n"
          ]
        }
      ],
      "source": [
        "#Convert the string to lowercase\n",
        "string = string.lower()\n",
        "print(string)"
      ]
    },
    {
      "cell_type": "code",
      "execution_count": 59,
      "id": "d4be9443",
      "metadata": {
        "id": "d4be9443"
      },
      "outputs": [
        {
          "name": "stdout",
          "output_type": "stream",
          "text": [
            "Ben made 300 calls and generated 2400 dollars last month with an 8$ average deal size.\n"
          ]
        }
      ],
      "source": [
        "#Capitalize the first character\n",
        "string = string.capitalize()\n",
        "print(string)"
      ]
    },
    {
      "cell_type": "markdown",
      "id": "f89b01c4",
      "metadata": {
        "id": "f89b01c4"
      },
      "source": [
        "### Information Extraction\n",
        "\n",
        "To extract the information, you need to split the sentence into words. \n",
        "\n",
        "📌 Use the .split() method.\n"
      ]
    },
    {
      "cell_type": "code",
      "execution_count": 60,
      "id": "04ede2fd",
      "metadata": {
        "id": "04ede2fd"
      },
      "outputs": [
        {
          "name": "stdout",
          "output_type": "stream",
          "text": [
            "['Ben', 'made', '300', 'calls', 'and', 'generated', '2400', 'dollars', 'last', 'month', 'with', 'an', '8$', 'average', 'deal', 'size.']\n"
          ]
        }
      ],
      "source": [
        "#Split the sentece into words\n",
        "split_string = string.split(\" \")\n",
        "print(split_string)"
      ]
    },
    {
      "cell_type": "markdown",
      "id": "9138eb5b",
      "metadata": {
        "id": "9138eb5b"
      },
      "source": [
        "You might noticed that the first element in the list is the name and the third element is the number of calls.\n",
        "\n",
        "📌 Use the indeces to extract the name and number of calls."
      ]
    },
    {
      "cell_type": "code",
      "execution_count": 61,
      "id": "897c59e5",
      "metadata": {
        "id": "897c59e5"
      },
      "outputs": [
        {
          "name": "stdout",
          "output_type": "stream",
          "text": [
            "Ben\n"
          ]
        }
      ],
      "source": [
        "#Use the index 0 to access the name element\n",
        "name = split_string[0]\n",
        "print(name)"
      ]
    },
    {
      "cell_type": "code",
      "execution_count": 62,
      "id": "98103332",
      "metadata": {
        "id": "98103332"
      },
      "outputs": [
        {
          "name": "stdout",
          "output_type": "stream",
          "text": [
            "300\n"
          ]
        }
      ],
      "source": [
        "#Use the index 2 to access the number of calls element\n",
        "call_number = split_string[2]\n",
        "print(call_number)"
      ]
    },
    {
      "cell_type": "markdown",
      "id": "etif7Kb3tEUC",
      "metadata": {
        "id": "etif7Kb3tEUC"
      },
      "source": [
        "So far so good!\n",
        "\n",
        "But as you can see the sentence order is not the same after the 7th element.\n",
        "\n",
        "To extract the average deal size you need to come up with a different approach. You can use the \"$\" sign to find the corresponding element.\n",
        "\n",
        "📌 Loop over the list to find the element that includes the \"$\" sign.\n",
        "\n",
        "📌 Then, use the .split() method to divide the string into the number and the $ sign."
      ]
    },
    {
      "cell_type": "code",
      "execution_count": 63,
      "id": "443a9ddf",
      "metadata": {
        "id": "443a9ddf"
      },
      "outputs": [],
      "source": [
        "#Find the element with the \"$\" sign\n",
        "for i in split_string:\n",
        "  #Divide the number from it\n",
        "  if '$' in i:\n",
        "    avg_deal_size = i.split(\"$\")[0]\n",
        "#Print the average deal size\n"
      ]
    },
    {
      "cell_type": "markdown",
      "id": "1332df7e",
      "metadata": {
        "id": "1332df7e"
      },
      "source": [
        "Similarly, we can use the string \"dollars\" to extract the revenue, which is the element right before \"dollars\".\n",
        "\n",
        "📌 Use the .index() method to identify the index for the \"dollars\" element.\n",
        "\n",
        "📌 Then, use this index to specify and extract the revenue."
      ]
    },
    {
      "cell_type": "code",
      "execution_count": 64,
      "id": "a00945b0",
      "metadata": {
        "id": "a00945b0"
      },
      "outputs": [
        {
          "name": "stdout",
          "output_type": "stream",
          "text": [
            "7\n"
          ]
        }
      ],
      "source": [
        "#Find the index of element \"dollars\"\n",
        "dollars_index = split_string.index(\"dollars\")\n",
        "print(dollars_index)\n"
      ]
    },
    {
      "cell_type": "code",
      "execution_count": 65,
      "id": "c663bd03",
      "metadata": {
        "id": "c663bd03"
      },
      "outputs": [
        {
          "name": "stdout",
          "output_type": "stream",
          "text": [
            "6\n"
          ]
        }
      ],
      "source": [
        "#Subtract one from the index to identify the index of the revenue element\n",
        "revenue_index = dollars_index - 1\n",
        "print(revenue_index)"
      ]
    },
    {
      "cell_type": "code",
      "execution_count": 66,
      "id": "2831e072",
      "metadata": {
        "id": "2831e072"
      },
      "outputs": [
        {
          "name": "stdout",
          "output_type": "stream",
          "text": [
            "2400\n"
          ]
        }
      ],
      "source": [
        "#Extract the revenue\n",
        "revenue = split_string[revenue_index]\n",
        "print(revenue)"
      ]
    },
    {
      "cell_type": "markdown",
      "id": "537ed4c2",
      "metadata": {
        "id": "537ed4c2"
      },
      "source": [
        "Great! You extracted all necessary information.\n",
        "\n",
        "📌 Print the information and check the types of the data."
      ]
    },
    {
      "cell_type": "code",
      "execution_count": 67,
      "id": "ace2c99f",
      "metadata": {
        "id": "ace2c99f"
      },
      "outputs": [
        {
          "name": "stdout",
          "output_type": "stream",
          "text": [
            "Name:  Ben\n",
            "Number of calls:  300\n",
            "Average deal size:  8\n",
            "Revenue:  2400\n"
          ]
        }
      ],
      "source": [
        "#Print out the extracted information\n",
        "print(\"Name: \", name)\n",
        "print(\"Number of calls: \", call_number)\n",
        "print(\"Average deal size: \", avg_deal_size)\n",
        "print(\"Revenue: \", revenue)"
      ]
    },
    {
      "cell_type": "code",
      "execution_count": 68,
      "id": "SwAyLOAInasY",
      "metadata": {
        "id": "SwAyLOAInasY"
      },
      "outputs": [
        {
          "name": "stdout",
          "output_type": "stream",
          "text": [
            "Name type:  <class 'str'>\n",
            "Number of calls type:  <class 'str'>\n",
            "Average deal size type:  <class 'str'>\n",
            "Revenue type:  <class 'str'>\n"
          ]
        }
      ],
      "source": [
        "#Check the types\n",
        "print(\"Name type: \", type(name))\n",
        "print(\"Number of calls type: \", type(call_number))\n",
        "print(\"Average deal size type: \", type(avg_deal_size))\n",
        "print(\"Revenue type: \", type(revenue))"
      ]
    },
    {
      "cell_type": "markdown",
      "id": "08f5b5fd",
      "metadata": {
        "id": "08f5b5fd"
      },
      "source": [
        "As you can see, we have the type string for all the data, but the average deal size, number of calls, and the revenue need to be integers. \n",
        "\n",
        "📌 Convert the data using the int() function and check again."
      ]
    },
    {
      "cell_type": "code",
      "execution_count": 69,
      "id": "5f42e3f0",
      "metadata": {
        "colab": {
          "base_uri": "https://localhost:8080/",
          "height": 17
        },
        "id": "5f42e3f0",
        "outputId": "acab915b-2771-4de7-aad1-093b39f4b058"
      },
      "outputs": [],
      "source": [
        "#Convert the datatypes of average deal size, number of calls, and revenue\n",
        "avg_deal_size = int(avg_deal_size)\n",
        "call_number = int(call_number)\n",
        "revenue = int(revenue)"
      ]
    },
    {
      "cell_type": "code",
      "execution_count": 70,
      "id": "89dc6fa1",
      "metadata": {
        "id": "89dc6fa1"
      },
      "outputs": [
        {
          "name": "stdout",
          "output_type": "stream",
          "text": [
            "Name type:  <class 'str'>\n",
            "Number of calls type:  <class 'int'>\n",
            "Average deal size type:  <class 'int'>\n",
            "Revenue type:  <class 'int'>\n"
          ]
        }
      ],
      "source": [
        "#Print out the information again\n",
        "print(\"Name type: \", type(name))\n",
        "print(\"Number of calls type: \", type(call_number))\n",
        "print(\"Average deal size type: \", type(avg_deal_size))\n",
        "print(\"Revenue type: \", type(revenue))"
      ]
    },
    {
      "cell_type": "markdown",
      "id": "0b194713",
      "metadata": {
        "id": "0b194713"
      },
      "source": [
        "Now, you need to apply all the methods and functions to the list that contains the different strings of all employees.\n",
        "\n",
        "📌 Create an empty lists for storing names, number of calls, average deal sizes, and revenues.\n",
        "\n",
        "📌 Use a for loop to iterate through the list with the whole data.\n",
        "\n",
        "📌 Print out the necessary information."
      ]
    },
    {
      "cell_type": "code",
      "execution_count": 71,
      "id": "5a4aab7e",
      "metadata": {
        "id": "5a4aab7e"
      },
      "outputs": [],
      "source": [
        "#Create empty lists for the names, number of calls, average deal sizes, revenues\n",
        "names = []\n",
        "call_numbers = []\n",
        "avg_deal_sizes = []\n",
        "revenues = []"
      ]
    },
    {
      "cell_type": "code",
      "execution_count": 72,
      "id": "2366069b",
      "metadata": {
        "id": "2366069b"
      },
      "outputs": [
        {
          "name": "stdout",
          "output_type": "stream",
          "text": [
            "Name:  ['Ben', 'Omer', 'Karen', 'Celine', 'Sue', 'Bora', 'Rose', 'Ellen', 'Bob', 'Taylor,', 'Jude']\n",
            "Number of calls:  [300, 10, 500, 70, 100, 100, 600, 800, 200, 450, 80]\n",
            "Average deal sizes:  [8, 6, 24, 32, 5, 25, 25, 40, 15, 10, 12]\n",
            "Revenues:  [2400, 60, 12000, 2275, 500, 770, 4000, 6000, 800, 1200, 500]\n"
          ]
        }
      ],
      "source": [
        "#Loop over the whole data\n",
        "for employee in lines:\n",
        "    #Clean the string\n",
        "    employee = employee.strip(\" \")\n",
        "    employee = employee.lower()\n",
        "    employee = employee.capitalize()\n",
        "\n",
        "    #Split the clean string\n",
        "    split_employee = employee.split(\" \")\n",
        "    \n",
        "    #Extract the name\n",
        "    name = split_employee[0]\n",
        "    call_number = split_employee[2]\n",
        "\n",
        "    #Extract the average deal size\n",
        "    for i in split_employee:\n",
        "        if \"$\" in i:\n",
        "            avg_deal_size = i\n",
        "\n",
        "    avg_deal_size = avg_deal_size.split(\"$\")[0]       \n",
        "\n",
        "    #Extract the revenue\n",
        "    dollars_index = split_employee.index(\"dollars\")\n",
        "    revenue_index = dollars_index - 1\n",
        "    revenue = split_employee[revenue_index]\n",
        "\n",
        "    #Convert to the correct data types\n",
        "    avg_deal_size = int(avg_deal_size)\n",
        "    call_number = int(call_number)\n",
        "    revenue = int(revenue)\n",
        "\n",
        "    #Append the information to the lists\n",
        "    names.append(name)\n",
        "    call_numbers.append(call_number)\n",
        "    avg_deal_sizes.append(avg_deal_size)\n",
        "    revenues.append(revenue)\n",
        "\n",
        "#Print out the information\n",
        "print(\"Name: \", names)\n",
        "print(\"Number of calls: \", call_numbers)\n",
        "print(\"Average deal sizes: \", avg_deal_sizes)\n",
        "print(\"Revenues: \", revenues)"
      ]
    },
    {
      "cell_type": "markdown",
      "id": "4d848787",
      "metadata": {
        "id": "4d848787"
      },
      "source": [
        "Finally, you can make the process even easier and reusable by defining functions.\n",
        "\n",
        "📌 Define the function \"clean_extract\".\n",
        "\n",
        "📌 Use the retured values by assigning them to variables."
      ]
    },
    {
      "cell_type": "code",
      "execution_count": 73,
      "id": "_ipfpGrirCs7",
      "metadata": {
        "colab": {
          "base_uri": "https://localhost:8080/",
          "height": 17
        },
        "id": "_ipfpGrirCs7",
        "outputId": "5c4f5ebd-b114-4b61-e332-49cc94d13f25"
      },
      "outputs": [],
      "source": [
        "#Create empty lists again\n",
        "names = []\n",
        "call_numbers = []\n",
        "avg_deal_sizes = []\n",
        "revenues = []"
      ]
    },
    {
      "cell_type": "code",
      "execution_count": 1,
      "id": "tnFT5Fk2qu_x",
      "metadata": {
        "id": "tnFT5Fk2qu_x"
      },
      "outputs": [],
      "source": [
        "#Define a function to clean and extract the data\n",
        "def clean_extract(lines):\n",
        "    \n",
        "    for employee in lines:\n",
        "        #Clean the string\n",
        "        employee = employee.strip(\" \")\n",
        "        employee = employee.lower()\n",
        "        employee = employee.capitalize()\n",
        "\n",
        "        #Split the clean string\n",
        "        split_employee = employee.split(\" \")\n",
        "        \n",
        "        #Extract the name\n",
        "        name = split_employee[0]\n",
        "        call_number = split_employee[2]\n",
        "\n",
        "        #Extract the average deal size\n",
        "        for i in split_employee:\n",
        "            if \"$\" in i:\n",
        "                avg_deal_size = i\n",
        "\n",
        "        avg_deal_size = avg_deal_size.split(\"$\")[0]       \n",
        "\n",
        "        #Extract the revenue\n",
        "        dollars_index = split_employee.index(\"dollars\")\n",
        "        revenue_index = dollars_index - 1\n",
        "        revenue = split_employee[revenue_index]\n",
        "\n",
        "        #Convert to the correct data types\n",
        "        avg_deal_size = int(avg_deal_size)\n",
        "        call_number = int(call_number)\n",
        "        revenue = int(revenue)\n",
        "\n",
        "        #Append the information to the lists\n",
        "        names.append(name)\n",
        "        call_numbers.append(call_number)\n",
        "        avg_deal_sizes.append(avg_deal_size)\n",
        "        revenues.append(revenue)\n",
        "\n",
        "    return names, call_numbers, avg_deal_sizes, revenues\n"
      ]
    },
    {
      "cell_type": "code",
      "execution_count": 75,
      "id": "13b0fe6b",
      "metadata": {
        "id": "13b0fe6b"
      },
      "outputs": [],
      "source": [
        "#Assign returned values to variables\n",
        "names, call_numbers, avg_deal_sizes, revenues = clean_extract(lines)"
      ]
    },
    {
      "cell_type": "code",
      "execution_count": 76,
      "id": "44e38957",
      "metadata": {
        "id": "44e38957"
      },
      "outputs": [
        {
          "name": "stdout",
          "output_type": "stream",
          "text": [
            "Name:  ['Ben']\n",
            "Number of calls:  [300]\n",
            "Average deal sizes:  [8]\n",
            "Revenues:  [2400]\n"
          ]
        }
      ],
      "source": [
        "#Print out the information\n",
        "print(\"Name: \", names)\n",
        "print(\"Number of calls: \", call_numbers)\n",
        "print(\"Average deal sizes: \", avg_deal_sizes)\n",
        "print(\"Revenues: \", revenues)"
      ]
    },
    {
      "cell_type": "markdown",
      "id": "26efe652",
      "metadata": {
        "id": "26efe652"
      },
      "source": [
        "### Performance Analysis Report\n",
        "\n",
        "Now that you cleaned the string and extracted all the information using the function, you can create performance analysis report for the last month.\n",
        "\n",
        "📌 Assign IDs to each employee.\n",
        "\n",
        "📌 Create dictionaries.\n",
        "\n",
        "📌 Sort the dictionaries.\n",
        "\n",
        "\n"
      ]
    },
    {
      "cell_type": "markdown",
      "id": "ZT7mAK3M5k3W",
      "metadata": {
        "id": "ZT7mAK3M5k3W"
      },
      "source": [
        "First, check how many employees there are and assign the IDs.\n",
        "\n",
        "📌 Use the len() and range() function.\n"
      ]
    },
    {
      "cell_type": "code",
      "execution_count": 77,
      "id": "f20ff52f",
      "metadata": {
        "id": "f20ff52f"
      },
      "outputs": [
        {
          "name": "stdout",
          "output_type": "stream",
          "text": [
            "1\n"
          ]
        }
      ],
      "source": [
        "#Check the number of employees\n",
        "print(len(names))"
      ]
    },
    {
      "cell_type": "code",
      "execution_count": 78,
      "id": "5c62caf8",
      "metadata": {
        "id": "5c62caf8"
      },
      "outputs": [
        {
          "name": "stdout",
          "output_type": "stream",
          "text": [
            "[0, 1, 2, 3, 4, 5, 6, 7, 8, 9, 10]\n"
          ]
        }
      ],
      "source": [
        "#Generate IDs\n",
        "IDs = list(range(0,11))\n",
        "print(IDs)"
      ]
    },
    {
      "cell_type": "code",
      "execution_count": 79,
      "id": "28cd8ce6",
      "metadata": {
        "id": "28cd8ce6"
      },
      "outputs": [
        {
          "name": "stdout",
          "output_type": "stream",
          "text": [
            "11\n"
          ]
        }
      ],
      "source": [
        "#Check the number of IDs\n",
        "print(len(IDs))"
      ]
    },
    {
      "cell_type": "markdown",
      "id": "NKP6Yoto6eqP",
      "metadata": {
        "id": "NKP6Yoto6eqP"
      },
      "source": [
        "With the IDs ready, you need to assign the IDs to the employees.\n",
        "\n",
        "📌 Use the zip() function to pair the employee with the ID.\n",
        "\n",
        "📌 Convert the zip object into a dictionary."
      ]
    },
    {
      "cell_type": "code",
      "execution_count": 80,
      "id": "7e56a43f",
      "metadata": {
        "id": "7e56a43f"
      },
      "outputs": [
        {
          "name": "stdout",
          "output_type": "stream",
          "text": [
            "{0: 'Ben'}\n"
          ]
        }
      ],
      "source": [
        "#Pair the names with the IDs in a dictionary\n",
        "dictionary1 = dict(zip(IDs, names))\n",
        "print(dictionary1)"
      ]
    },
    {
      "cell_type": "markdown",
      "id": "429d7b7f",
      "metadata": {
        "id": "429d7b7f"
      },
      "source": [
        "Similarly, create a dictionary for the  employees and their revenues."
      ]
    },
    {
      "cell_type": "code",
      "execution_count": 2,
      "id": "aa2c6560",
      "metadata": {
        "id": "aa2c6560"
      },
      "outputs": [
        {
          "ename": "NameError",
          "evalue": "name 'revenues' is not defined",
          "output_type": "error",
          "traceback": [
            "\u001b[0;31m---------------------------------------------------------------------------\u001b[0m",
            "\u001b[0;31mNameError\u001b[0m                                 Traceback (most recent call last)",
            "Cell \u001b[0;32mIn[2], line 2\u001b[0m\n\u001b[1;32m      1\u001b[0m \u001b[39m#Pair the names with the revenues\u001b[39;00m\n\u001b[0;32m----> 2\u001b[0m dictionary2 \u001b[39m=\u001b[39m \u001b[39mdict\u001b[39m(\u001b[39mzip\u001b[39m(revenues, names))\n\u001b[1;32m      3\u001b[0m \u001b[39mprint\u001b[39m(dictionary2)\n",
            "\u001b[0;31mNameError\u001b[0m: name 'revenues' is not defined"
          ]
        }
      ],
      "source": [
        "#Pair the names with the revenues\n",
        "dictionary2 = dict(zip(revenues, names))\n",
        "print(dictionary2)\n"
      ]
    },
    {
      "cell_type": "markdown",
      "id": "Ou3ne5Vn76N_",
      "metadata": {
        "id": "Ou3ne5Vn76N_"
      },
      "source": [
        "Finally, you need to find the employees with the best and lowest performance.\n",
        "\n",
        "📌 Sort the dictionary using the sorted() function in ascending and descending order.\n"
      ]
    },
    {
      "cell_type": "code",
      "execution_count": 82,
      "id": "d348a929",
      "metadata": {
        "id": "d348a929"
      },
      "outputs": [
        {
          "ename": "NameError",
          "evalue": "name 'dictionary2' is not defined",
          "output_type": "error",
          "traceback": [
            "\u001b[0;31m---------------------------------------------------------------------------\u001b[0m",
            "\u001b[0;31mNameError\u001b[0m                                 Traceback (most recent call last)",
            "Cell \u001b[0;32mIn[82], line 2\u001b[0m\n\u001b[1;32m      1\u001b[0m \u001b[39m#Find the lowest performing employees (ascending order)\u001b[39;00m\n\u001b[0;32m----> 2\u001b[0m sorted_dictionary \u001b[39m=\u001b[39m \u001b[39msorted\u001b[39m(dictionary2[\u001b[39m0\u001b[39m:\u001b[39m3\u001b[39m])\n\u001b[1;32m      4\u001b[0m \u001b[39mfor\u001b[39;00m i \u001b[39min\u001b[39;00m sorted_dictionary:\n\u001b[1;32m      5\u001b[0m     \u001b[39mprint\u001b[39m(dictionary2[i])\n",
            "\u001b[0;31mNameError\u001b[0m: name 'dictionary2' is not defined"
          ]
        }
      ],
      "source": [
        "#Find the lowest performing employees (ascending order)\n",
        "sorted_dictionary = sorted(dictionary2[0:3])\n",
        "\n",
        "for i in sorted_dictionary:\n",
        "    print(dictionary2[i])"
      ]
    },
    {
      "cell_type": "code",
      "execution_count": null,
      "id": "3210f1ad",
      "metadata": {
        "id": "3210f1ad"
      },
      "outputs": [],
      "source": [
        "#Find the best performing employees (descending order)\n",
        "sorted_dictionary = sorted(dictionary2, reverse = True)[0:3]"
      ]
    }
  ],
  "metadata": {
    "colab": {
      "collapsed_sections": [],
      "name": "Guided_project_3_updated.ipynb",
      "provenance": []
    },
    "kernelspec": {
      "display_name": "Python 3",
      "language": "python",
      "name": "python3"
    },
    "language_info": {
      "codemirror_mode": {
        "name": "ipython",
        "version": 3
      },
      "file_extension": ".py",
      "mimetype": "text/x-python",
      "name": "python",
      "nbconvert_exporter": "python",
      "pygments_lexer": "ipython3",
      "version": "3.10.12"
    }
  },
  "nbformat": 4,
  "nbformat_minor": 5
}
